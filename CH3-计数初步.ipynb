{
 "cells": [
  {
   "cell_type": "markdown",
   "metadata": {
    "collapsed": true
   },
   "source": [
    "# 开篇例子：循环赛与淘汰赛\n",
    "\n",
    "- 循环赛：每个选手都会被安排轮流和其他人比上一回合。\n",
    "- 淘汰赛：选手们被安排成对比赛，只有当中的嬴者可以进入下一轮比赛，直到冠军的产生。\n",
    "\n",
    "现在给出一个问题，求若有n个选手，按照这两个方式应该各自要进行多少次比赛。\n",
    "\n",
    "循环赛：很明显，自然是 $C_n^2=\\frac{n(n-1)}{2}$\n",
    "\n",
    "淘汰赛：在首次比赛，n位选手就有n/2场比赛，随后有n/4场比赛，直到1场比赛，因此总的比赛次数为 $\\frac{n}{2}+\\frac{n}{4}+...+1$，我们以图的形式进行表示：\n",
    "\n",
    "![二叉树结构](./images/tree1.jpg)\n",
    "\n",
    "这是一个二叉树结构，其中有**n个叶节点**，可代表选手人数，有**n-1个内部节点**，可代表比赛的场数。\n",
    "\n",
    "实际上，也可换个角度：由于每一场比赛都会有一名骑士被淘汰，所以最终除了冠军之后的所有人都会被淘汰，也就是说需要n-1场比赛。\n",
    "\n",
    "在这里，我们用到了二叉树图形来帮助理解计数的方法，下面来进一步讨论。如下是n个标志在二叉树各层中传递的过程，即是从n减半到1的过程。\n",
    "\n",
    "![二叉树结构](./images/tree2.jpg)\n",
    "\n",
    "当我们处理递归的时候，使用这种图形有助于理清思路。当我们试着找出递归过程中的全部的工作量时，我们可以从树的高度以及每一层所处理的工作量入手。我们可看到这些值作为固定数量的标志在树中向下传递。当节点数翻倍时，每个节点的标识数将减半，每一层总共的标识总数保持为n。\n",
    "\n",
    "如下为完全平衡二叉树的属性概要：\n",
    "\n",
    "![二叉树结构](./images/tree3.jpg)"
   ]
  },
  {
   "cell_type": "markdown",
   "metadata": {
    "collapsed": true
   },
   "source": [
    "# 伪多项式（时间）算法\n",
    "\n",
    "若一个数值算法的时间复杂度可表示为输入数值N的多项式，则可称其时间复杂度为伪多项式时间。由于N的值为N的位数的幂，故该算法的时候复杂度实际上应视为输入数值N的位数的幂。（confuse...）\n",
    "\n",
    "```\n",
    "todo\n",
    "```"
   ]
  },
  {
   "cell_type": "markdown",
   "metadata": {
    "collapsed": true
   },
   "source": [
    "# 几个重要的例子以及分析\n",
    "\n",
    "通常情况下，我们所遇到的是递归式的一般形式：T(n)=a * T(g(n)) + f(n)。\n",
    "\n",
    "相关符合解释如下：\n",
    "\n",
    "- a - 递归调用的数量\n",
    "\n",
    "- g(n) - 递归过程中所要解决的子问题大小\n",
    "\n",
    "- f(n) - 函数中的额外操作\n",
    "\n",
    "一些基本递归式的解决方案和应用实例：\n",
    "\n",
    "![二叉树结构](./images/table1.jpg)\n",
    "\n",
    "## 递归式1证明\n",
    "\n",
    "$T(n)\\\\=T(n-1)+1\\\\=T(n-2)+1+1\\\\=T(n-3)+3\\\\=...\\\\=T(n-i)+i$\n",
    "\n",
    "令$i=n-1$，则$$T(n)=T(1)+n-1=\\Theta(n)$$\n",
    "\n",
    "## 递归式2证明\n",
    "\n",
    "$T(n)\\\\=T(n-1)+n\\\\=T((n-1)-1)+n+(n-1)\\\\=T((n-2)-1)+n+(n-1)+(n-2)\\\\= ...\\\\=T((n-i)-1)+n+(n-1)+...+(n-i)$\n",
    "\n",
    "令$n-i=2$，则$$T(n)=T(1)+\\frac{(2+n)(n-1)}{2}=\\Theta(n^2)$$\n",
    "\n",
    "## 递归式3证明\n",
    "\n",
    "$T(n)\\\\=2T(n-1)+1\\\\=4T(n-2)+2+1\\\\=8T(n-3)+4+2+1\\\\=...\\\\=2^iT(n-i)+2^{i-1}+2^{i-2}+...+1$\n",
    "\n",
    "令$i=n-1$，则$$T(n)=2^{n-1}T(1)+\\frac{2^0(1-2^{n-1})}{1-2}=\\Theta(2^n)$$\n",
    "\n",
    "## 递归式4证明\n",
    "\n",
    "$T(n)\\\\=2T(n-1)+n\\\\=4T(n-2)+n+(n-1)\\\\=8T(n-3)+n+2(n-1)+4(n-2)\\\\=...\\\\=2^iT(n-i)+n+2(n-1)+4(n-2)+...+2^{i-1}(n-(i-1))$\n",
    "\n",
    "令$i=n$，则$$T(n)=2^{n}T(0)+\\sum_{i=0}^{n-1}2^i(n-i)=\\Theta(2^n)$$"
   ]
  },
  {
   "cell_type": "markdown",
   "metadata": {},
   "source": [
    "## 递归式5证明\n",
    "\n",
    "$T(n)\\\\=T(n/2)+1\\\\=T(n/4)+1+1\\\\=T(n/8)+1+1+1\\\\=...\\\\=T(n/2^i)+i$\n",
    "\n",
    "令$2^i=n$，则$$T(n)=T(1)+log_2n=\\Theta(lgn)$$\n",
    "\n",
    "## 递归式6证明\n",
    "\n",
    "$T(n)\\\\=T(n/2)+n\\\\=T(n/4)+n+n/2\\\\=T(n/8)+n+n/2+n/4\\\\=...\\\\=T(n/2^i)+n+n/2+...+n/(i-1)$\n",
    "\n",
    "令$2^i=n$，则$$T(n)=T(1)+n\\sum_{k=0}^{log_2n-1}\\frac{1}{2^k}=T(1)+2n(1-2^{-log_2n})=T(1)+2n-2=\\Theta(n)$$\n",
    "\n",
    "ps:$2^{-log_2n}=1/n$\n",
    "\n",
    "## 递归式7证明\n",
    "\n",
    "$T(n)\\\\=2T(n/2)+1\\\\=4T(n/4)+1+2\\\\=8T(n/8)+1+2+4\\\\=...\\\\=2^iT(n/2^i)+1+2+4+...+2^{i-1}$\n",
    "\n",
    "令$2^i=n$，则$$T(n)=nT(1)+1(n-1)=\\Theta(n)$$\n",
    "\n",
    "## 递归式8证明\n",
    "\n",
    "$T(n)\\\\=2T(n/2)+n\\\\=4T(n/4)+n+2\\frac{n}{2}\\\\=8T(n/8)+n+2\\frac{n}{2}+4\\frac{n}{4}\\\\=...\\\\\n",
    "=2^iT(n/2^i)+n+2\\frac{n}{2}+...+2^{i-1}\\frac{n}{2^{i-1}}\\\\\n",
    "=2^iT(n/2^i)+ni$\n",
    "\n",
    "令$2^i=n$，则$$T(n)=nT(1)+nlog_2n=\\Theta(nlgn)$$"
   ]
  },
  {
   "cell_type": "markdown",
   "metadata": {},
   "source": [
    "# 换元法求复杂度\n",
    "\n",
    "有一些递归式按照上面的方法是很难求出复杂度的，比如：$$T(n)=aT(n^{\\frac{1}{b}})+f(n)$$\n",
    "\n",
    "重点就在于$n^{\\frac{1}{b}}$的存在，如果能把它换成$\\frac{m}{b}$的话或许就好算多了。\n",
    "\n",
    "下面以a=2,b=2为例：$$T(n)=2T(n^{\\frac{1}{2}})+log_2n$$\n",
    "\n",
    "为了将$n^{\\frac{1}{2}}$换成$\\frac{m}{2}$，我们可以令$m=log_2n$：$$T(2^m)=2T(2^{\\frac{m}{2}})+m$$\n",
    "\n",
    "设$S(m)=T(2^m)$，则：$$S(m)=2S(\\frac{m}{2})+m$$\n",
    "\n",
    "则$T(n)=S(m)$，也即是$\\Theta(mlgm)=\\Theta(lgn·lglgn)$"
   ]
  },
  {
   "cell_type": "markdown",
   "metadata": {},
   "source": [
    "# 猜测与检验-归纳法\n",
    "\n",
    "证明递归式的时间复杂度可用归纳法，归纳法有两种：\n",
    "\n",
    "- 弱归纳：假设是基于当前值的**前一个值**\n",
    "    - 例子：\n",
    "    假设$T(n-1)<=c(n-1)$，则$T(n)=T(n-1)+1 <= c(n-1)+1 = cn -c+1= cn$\n",
    "    \n",
    "- 强归纳：假设是基于**所有比当前值小的值**\n",
    "    - 例子：\n",
    "    假设$T(k)<=cklgk, k<n,k\\in Z^+$，\n",
    "    \n",
    "    则$T(n)=2T(\\frac{n}{2})+n <= c(\\frac{n}{2})lg(\\frac{n}{2})+n = c((\\frac{n}{2})lg(n)-\\frac{n}{2})+n = nlgn$"
   ]
  },
  {
   "cell_type": "markdown",
   "metadata": {
    "collapsed": true
   },
   "source": [
    "# 主定理\n",
    "\n",
    "一般来说，递归式有如下形式：$T(n)=aT(n/b)+f(n),a>=1,b>1$。\n",
    "\n",
    "\n",
    "|情况|前提条件|时间复杂度|相关实例|\n",
    "|:----:|:-------:|:-------:|:----------:|\n",
    "|1|$f(n)\\in O(n^{log_b(a-\\epsilon)})$                       |$T(n) \\in \\Theta(n^{log_ba})$|$T(n)=2T(n/2)+lgn$|\n",
    "|2|$f(n)\\in O(n^{log_ba})$|$T(n) \\in \\Theta(n^{log_ba}\\ lgn)$|$T(n)=2T(n/4)+\\sqrt n$|\n",
    "|3|$f(n)\\in O(n^{log_b(a+\\epsilon)})$                       |$T(n) \\in \\Theta(f(n))$|$T(n)=2T(n/3)+n$|\n",
    "\n",
    "# 递归式解法\n",
    "\n",
    "- 1.反复运用原始等式以展开T的递归部分，直至发现其中的模式(如递归式1的证明)\n",
    "- 2.对解决方案进行假设性猜测，再运用归纳法证明其正确性(见归纳法部分)\n",
    "- 3.对符合某种主定理的分治递归式，直接采用相应的解决方案"
   ]
  },
  {
   "cell_type": "markdown",
   "metadata": {},
   "source": [
    " **-------------------------------------------平台配置代码--------------------------------------------**"
   ]
  },
  {
   "cell_type": "code",
   "execution_count": 1,
   "metadata": {
    "ExecuteTime": {
     "end_time": "2017-10-05T00:06:22.266656Z",
     "start_time": "2017-10-05T00:06:22.259652Z"
    },
    "collapsed": true
   },
   "outputs": [],
   "source": [
    "from IPython.core.interactiveshell import InteractiveShell\n",
    "InteractiveShell.ast_node_interactivity = \"all\""
   ]
  }
 ],
 "metadata": {
  "anaconda-cloud": {},
  "kernelspec": {
   "display_name": "Python [conda root]",
   "language": "python",
   "name": "conda-root-py"
  },
  "language_info": {
   "codemirror_mode": {
    "name": "ipython",
    "version": 3
   },
   "file_extension": ".py",
   "mimetype": "text/x-python",
   "name": "python",
   "nbconvert_exporter": "python",
   "pygments_lexer": "ipython3",
   "version": "3.5.2"
  },
  "toc": {
   "nav_menu": {},
   "number_sections": true,
   "sideBar": true,
   "skip_h1_title": false,
   "toc_cell": false,
   "toc_position": {
    "height": "702px",
    "left": "0px",
    "right": "1148px",
    "top": "66px",
    "width": "212px"
   },
   "toc_section_display": "block",
   "toc_window_display": true
  }
 },
 "nbformat": 4,
 "nbformat_minor": 2
}
