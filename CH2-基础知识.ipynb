{
 "cells": [
  {
   "cell_type": "markdown",
   "metadata": {},
   "source": [
    "# 渐进记法\n",
    "\n",
    "渐进上界 $f\\in O(g)$：$ \\exists\\ n_0 \\in N,\\ c>0,\\ \\forall\\ n >= n_0,\\ f(n) <= cg(n)$，一般确保是最低上限\n",
    "\n",
    "渐进下界 $f\\in \\Omega(g)$：$ \\exists\\ n_0 \\in N,\\ c>0,\\ \\forall\\ n >= n_0,\\ f(n) >= cg(n)$，一般确保是最高上限\n",
    "\n",
    "两者交集 $f\\in \\Theta(g)$：$ \\exists\\ n_0 \\in N,\\ c_1>0,\\ c_2>0,\\ \\forall\\ n >= n_0,\\ c_1g(n)<=f(n) <= c_2g(n)$\n",
    "\n",
    "即是：$ \\Theta(g) = O(g)\\cap\\Omega(g)$\n",
    "\n",
    "可以发现，$\\Omega$ 和 $O$ 是相互可逆的，即若 $f\\in \\Omega(g)$， 则  $g\\in\\Omega(f)$。\n",
    "\n",
    "常见渐进运行时间排序：\n",
    "\n",
    "$\\Theta(1)$（常数级）< $\\Theta(lgn)$（对数级）< $\\Theta(n)$（线性级）< $\\Theta(nlgn)$（线性对数级）< $\\Theta(n^2)$（平方级）< $\\Theta(n^3)$（立方级）\n",
    "\n",
    "< $\\Theta(n^k)$（**多项式级**，在此级别及之前的问题属于易处理问题（“有解”））\n",
    "\n",
    "< $\\Theta(k^n)$（**指数级**，在此级别及之后的问题属于难处理问题（“无解”））\n",
    "\n",
    "< $\\Theta(n!)$（阶乘级）\n",
    "\n",
    "# 复杂度分析实例\n",
    "\n",
    "```python\n",
    "s = 0\n",
    "for i in range(n):\n",
    "    s += i\n",
    "```\n",
    "\n",
    "这个例子可以说是sum函数的粗暴实现，很容易可以得出这里的渐进运行时间为$\\Theta(n)$。\n",
    "\n",
    "在这里，i是一般的整形数，因此这里的每个+=操作运行时间都属于常数级。\n",
    "\n",
    "但是需要注意，**python也支持大整型和长整型，它们可以在我们所用的整数大到一定程度时自动调整为相关类型**。\n",
    "\n",
    "这意味着一旦我们使用的数字真正够大时，先前关于该操作是常数运行时间的假设就会被打破。\n",
    "\n",
    "# 三种重要情况\n",
    "\n",
    "在分析复杂度的时候，我们一般会讨论以下三种重要情况的一种。\n",
    "\n",
    "- 最好情况：当算法遇到最理想输入时的运行时间。\n",
    "\n",
    "- 最坏情况：当算法遇到最理想输入时的运行时间，这也是最有用最值得分析的一种情况。\n",
    "\n",
    "- 平均情况：对于按照一定的概率分布的随机输入的平均运行时间值，这个最为复杂，我们在大部分时间内都会回避这种情况。\n",
    "\n",
    "# 实证式算法评估\n",
    "\n",
    "## 没有把握时\n",
    "\n",
    "当没有把握时，就用蛮力试试。只要工作了就是有用的。\n",
    "\n",
    "## 利用timeit计时\n",
    "\n",
    "timeit模块会通过多次运行被选中的命令来计算运行时间，这样可以提高计时的精度。但是这里也有需要注意的地方：\n",
    "\n",
    "**避免一些因重复执行带来的副作用——比如早先执行的操作会影响后面的运行**。\n",
    "\n",
    "jupyter notebook中也有```%%timeit```命令实现相同的功能。"
   ]
  },
  {
   "cell_type": "code",
   "execution_count": 9,
   "metadata": {
    "ExecuteTime": {
     "end_time": "2017-10-04T20:30:29.711050Z",
     "start_time": "2017-10-04T20:30:28.947513Z"
    }
   },
   "outputs": [
    {
     "data": {
      "text/plain": [
       "0.7564067574256796"
      ]
     },
     "execution_count": 9,
     "metadata": {},
     "output_type": "execute_result"
    }
   ],
   "source": [
    "import timeit\n",
    "timeit.timeit(\"x=sum(range(10))\") #单位为 微秒(us)"
   ]
  },
  {
   "cell_type": "code",
   "execution_count": 11,
   "metadata": {
    "ExecuteTime": {
     "end_time": "2017-10-04T20:30:56.332011Z",
     "start_time": "2017-10-04T20:30:53.408440Z"
    }
   },
   "outputs": [
    {
     "name": "stdout",
     "output_type": "stream",
     "text": [
      "1000000 loops, best of 3: 663 ns per loop\n"
     ]
    }
   ],
   "source": [
    "%%timeit\n",
    "x=sum(range(10))"
   ]
  },
  {
   "cell_type": "markdown",
   "metadata": {},
   "source": [
    "## 利用profiler找出瓶颈\n",
    "\n",
    "python中自带少量的profiler变体，这里建议使用cProfile，其可给出关于执行时间都花在哪里的更为详细的信息。\n",
    "\n",
    "其可以打印出程序中各函数的计时结果，这为我们优化算法来说是一个很不错的工具。其打印出来的信息是相当细节的。"
   ]
  },
  {
   "cell_type": "code",
   "execution_count": 12,
   "metadata": {
    "ExecuteTime": {
     "end_time": "2017-10-04T20:35:04.932280Z",
     "start_time": "2017-10-04T20:35:04.926775Z"
    },
    "collapsed": true
   },
   "outputs": [],
   "source": [
    "def f(n=10):\n",
    "    t = 0\n",
    "    for i in range(n):\n",
    "        if i%2 == 0:\n",
    "            print('even')\n",
    "        else:\n",
    "            t += i"
   ]
  },
  {
   "cell_type": "code",
   "execution_count": 13,
   "metadata": {
    "ExecuteTime": {
     "end_time": "2017-10-04T20:35:19.239783Z",
     "start_time": "2017-10-04T20:35:19.231276Z"
    }
   },
   "outputs": [
    {
     "name": "stdout",
     "output_type": "stream",
     "text": [
      "even\n",
      "even\n",
      "even\n",
      "even\n",
      "even\n",
      "         74 function calls in 0.000 seconds\n",
      "\n",
      "   Ordered by: standard name\n",
      "\n",
      "   ncalls  tottime  percall  cumtime  percall filename:lineno(function)\n",
      "        1    0.000    0.000    0.000    0.000 <ipython-input-12-62e7736945f7>:1(f)\n",
      "        1    0.000    0.000    0.000    0.000 <string>:1(<module>)\n",
      "        1    0.000    0.000    0.000    0.000 ioloop.py:932(add_callback)\n",
      "       10    0.000    0.000    0.000    0.000 iostream.py:228(_is_master_process)\n",
      "       10    0.000    0.000    0.000    0.000 iostream.py:241(_schedule_flush)\n",
      "       10    0.000    0.000    0.000    0.000 iostream.py:309(write)\n",
      "        1    0.000    0.000    0.000    0.000 stack_context.py:253(wrap)\n",
      "        1    0.000    0.000    0.000    0.000 {built-in method _thread.get_ident}\n",
      "        1    0.000    0.000    0.000    0.000 {built-in method builtins.exec}\n",
      "        1    0.000    0.000    0.000    0.000 {built-in method builtins.hasattr}\n",
      "       10    0.000    0.000    0.000    0.000 {built-in method builtins.isinstance}\n",
      "        5    0.000    0.000    0.000    0.000 {built-in method builtins.print}\n",
      "       10    0.000    0.000    0.000    0.000 {built-in method nt.getpid}\n",
      "        1    0.000    0.000    0.000    0.000 {method 'append' of 'list' objects}\n",
      "        1    0.000    0.000    0.000    0.000 {method 'disable' of '_lsprof.Profiler' objects}\n",
      "       10    0.000    0.000    0.000    0.000 {method 'write' of '_io.StringIO' objects}\n",
      "\n",
      "\n"
     ]
    }
   ],
   "source": [
    "import cProfile\n",
    "cProfile.run('f()')"
   ]
  },
  {
   "cell_type": "markdown",
   "metadata": {},
   "source": [
    "## 利用trace得到语句执行次数\n",
    "\n",
    "python内置的trace模块可以对程序中各语句的执行次数进行统计操作。"
   ]
  },
  {
   "cell_type": "code",
   "execution_count": 21,
   "metadata": {
    "ExecuteTime": {
     "end_time": "2017-10-04T20:44:40.201944Z",
     "start_time": "2017-10-04T20:44:40.197941Z"
    },
    "collapsed": true
   },
   "outputs": [],
   "source": [
    "# todo"
   ]
  },
  {
   "cell_type": "markdown",
   "metadata": {},
   "source": [
    "## 其他工具\n",
    "\n",
    "[python call graph][1]这个工具可以可视化地看到代码的调用情况。\n",
    "\n",
    "[1]:http://pycallgraph.slowchop.com\n",
    "\n",
    "## 绘制结果\n",
    "\n",
    "在性能图形化方面，有如下两种常见的绘图方式：\n",
    "\n",
    "- 反映问题规模与运行时间关系的图表\n",
    "- 相关运行时间的详细分布的盒形图\n",
    "\n",
    "绘制包参考：matplotlib\n",
    "\n",
    "# 图与树的实现\n",
    "\n",
    "一个重要的思想：一个图的最佳表示方法取决于我们想用它来干什么。\n",
    "\n",
    "## 邻接列表及其相似结构\n",
    "\n",
    "以下图为例：\n",
    "\n",
    "![示例图像](./images/graph.png)\n",
    "\n",
    "### 邻接集\n",
    "\n",
    "- 优点：$O(1)$的时间判断 a -> b 这条有向边是否存在于 图中\n",
    "\n",
    "\n",
    "- 缺点：不易于遍历"
   ]
  },
  {
   "cell_type": "code",
   "execution_count": 22,
   "metadata": {
    "ExecuteTime": {
     "end_time": "2017-10-04T21:57:04.231809Z",
     "start_time": "2017-10-04T21:57:04.222282Z"
    },
    "collapsed": true
   },
   "outputs": [],
   "source": [
    "a, b, c, d, e, f, g, h = range(8)\n",
    "N = [\n",
    "    {b, c, d, e, f}, # a\n",
    "    {c, e},          # b\n",
    "    {d},             # c\n",
    "    {e},             # d\n",
    "    {f},             # e\n",
    "    {c, g, h},       # f\n",
    "    {f, h},          # g\n",
    "    {f, g}           # h\n",
    "]"
   ]
  },
  {
   "cell_type": "code",
   "execution_count": 25,
   "metadata": {
    "ExecuteTime": {
     "end_time": "2017-10-04T22:00:51.833386Z",
     "start_time": "2017-10-04T22:00:51.815375Z"
    }
   },
   "outputs": [
    {
     "data": {
      "text/plain": [
       "[{1, 2, 3, 4, 5}, {2, 4}, {3}, {4}, {5}, {2, 6, 7}, {5, 7}, {5, 6}]"
      ]
     },
     "execution_count": 25,
     "metadata": {},
     "output_type": "execute_result"
    },
    {
     "data": {
      "text/plain": [
       "True"
      ]
     },
     "execution_count": 25,
     "metadata": {},
     "output_type": "execute_result"
    },
    {
     "data": {
      "text/plain": [
       "3"
      ]
     },
     "execution_count": 25,
     "metadata": {},
     "output_type": "execute_result"
    }
   ],
   "source": [
    "N\n",
    "b in N[a] # 判断 a -> b 这条有向边是否存在于 图中\n",
    "len(N[f]) # 结点 f 的度数"
   ]
  },
  {
   "cell_type": "markdown",
   "metadata": {},
   "source": [
    "### 邻接列表\n",
    "\n",
    "- 优点：易于对图中的所有节点v进行遍历\n",
    "\n",
    "\n",
    "- 缺点：$O(N(a))$的时间判断 a -> b 这条有向边是否存在于 图中\n",
    "\n",
    "     - 可考虑的解决方案：使邻接成员保持有序排列，使用二分法进行元素查询"
   ]
  },
  {
   "cell_type": "code",
   "execution_count": 26,
   "metadata": {
    "ExecuteTime": {
     "end_time": "2017-10-04T22:18:29.348274Z",
     "start_time": "2017-10-04T22:18:29.341270Z"
    },
    "collapsed": true
   },
   "outputs": [],
   "source": [
    "a, b, c, d, e, f, g, h = range(8)\n",
    "N = [\n",
    "    [b, c, d, e, f], # a\n",
    "    [c, e],          # b\n",
    "    [d],             # c\n",
    "    [e],             # d\n",
    "    [f],             # e\n",
    "    [c, g, h],       # f\n",
    "    [f, h],          # g\n",
    "    [f, g]           # h\n",
    "]"
   ]
  },
  {
   "cell_type": "code",
   "execution_count": 27,
   "metadata": {
    "ExecuteTime": {
     "end_time": "2017-10-04T22:18:39.912188Z",
     "start_time": "2017-10-04T22:18:39.896657Z"
    }
   },
   "outputs": [
    {
     "data": {
      "text/plain": [
       "[[1, 2, 3, 4, 5], [2, 4], [3], [4], [5], [2, 6, 7], [5, 7], [5, 6]]"
      ]
     },
     "execution_count": 27,
     "metadata": {},
     "output_type": "execute_result"
    },
    {
     "data": {
      "text/plain": [
       "True"
      ]
     },
     "execution_count": 27,
     "metadata": {},
     "output_type": "execute_result"
    },
    {
     "data": {
      "text/plain": [
       "3"
      ]
     },
     "execution_count": 27,
     "metadata": {},
     "output_type": "execute_result"
    }
   ],
   "source": [
    "N\n",
    "b in N[a] # 判断 a -> b 这条有向边是否存在于 图中\n",
    "len(N[f]) # 结点 f 的度数"
   ]
  },
  {
   "cell_type": "markdown",
   "metadata": {},
   "source": [
    "### 加权邻接字典\n",
    "\n",
    "邻接列表的加权版"
   ]
  },
  {
   "cell_type": "code",
   "execution_count": 28,
   "metadata": {
    "ExecuteTime": {
     "end_time": "2017-10-04T22:31:37.013776Z",
     "start_time": "2017-10-04T22:31:36.999767Z"
    },
    "collapsed": true
   },
   "outputs": [],
   "source": [
    "a, b, c, d, e, f, g, h = range(8)\n",
    "N = [\n",
    "    {b:2, c:1, d:3, e:9, f:4}, # a\n",
    "    {c:4, e:3},                # b\n",
    "    {d:8},                     # c\n",
    "    {e:7},                     # d\n",
    "    {f:5},              # e\n",
    "    {c:1, g:2, h:3},    # f\n",
    "    {f:1, h:8},         # g\n",
    "    {f:2, g:6}          # h\n",
    "]"
   ]
  },
  {
   "cell_type": "code",
   "execution_count": 29,
   "metadata": {
    "ExecuteTime": {
     "end_time": "2017-10-04T22:32:13.594321Z",
     "start_time": "2017-10-04T22:32:13.575307Z"
    }
   },
   "outputs": [
    {
     "data": {
      "text/plain": [
       "[{1: 2, 2: 1, 3: 3, 4: 9, 5: 4},\n",
       " {2: 4, 4: 3},\n",
       " {3: 8},\n",
       " {4: 7},\n",
       " {5: 5},\n",
       " {2: 1, 6: 2, 7: 3},\n",
       " {5: 1, 7: 8},\n",
       " {5: 2, 6: 6}]"
      ]
     },
     "execution_count": 29,
     "metadata": {},
     "output_type": "execute_result"
    },
    {
     "data": {
      "text/plain": [
       "True"
      ]
     },
     "execution_count": 29,
     "metadata": {},
     "output_type": "execute_result"
    },
    {
     "data": {
      "text/plain": [
       "3"
      ]
     },
     "execution_count": 29,
     "metadata": {},
     "output_type": "execute_result"
    },
    {
     "data": {
      "text/plain": [
       "2"
      ]
     },
     "execution_count": 29,
     "metadata": {},
     "output_type": "execute_result"
    }
   ],
   "source": [
    "N\n",
    "b in N[a] # 判断 a -> b 这条有向边是否存在于 图中\n",
    "len(N[f]) # 结点 f 的度数\n",
    "N[a][b]   # a->b的权重"
   ]
  },
  {
   "cell_type": "markdown",
   "metadata": {},
   "source": [
    "### 邻接集的字典表示法\n",
    "\n",
    "优点：灵活性高，不需要像上面的那样将a-h转换成数字0-7，允许使用任意可散列的对象来充当节点标签\n",
    "\n",
    "缺点：不易于遍历（同邻接表一样）"
   ]
  },
  {
   "cell_type": "code",
   "execution_count": 30,
   "metadata": {
    "ExecuteTime": {
     "end_time": "2017-10-04T22:37:41.839996Z",
     "start_time": "2017-10-04T22:37:41.829987Z"
    },
    "collapsed": true
   },
   "outputs": [],
   "source": [
    "N = {\n",
    "    'a':set('bcdef'),\n",
    "    'b':set('ce'),\n",
    "    'c':set('d'),\n",
    "    'd':set('e'),\n",
    "    'e':set('f'),\n",
    "    'f':set('cgh'),\n",
    "    'g':set('fh'),\n",
    "    'h':set('fg')\n",
    "}"
   ]
  },
  {
   "cell_type": "code",
   "execution_count": 31,
   "metadata": {
    "ExecuteTime": {
     "end_time": "2017-10-04T22:38:45.524635Z",
     "start_time": "2017-10-04T22:38:45.507122Z"
    }
   },
   "outputs": [
    {
     "data": {
      "text/plain": [
       "{'a': {'b', 'c', 'd', 'e', 'f'},\n",
       " 'b': {'c', 'e'},\n",
       " 'c': {'d'},\n",
       " 'd': {'e'},\n",
       " 'e': {'f'},\n",
       " 'f': {'c', 'g', 'h'},\n",
       " 'g': {'f', 'h'},\n",
       " 'h': {'f', 'g'}}"
      ]
     },
     "execution_count": 31,
     "metadata": {},
     "output_type": "execute_result"
    },
    {
     "data": {
      "text/plain": [
       "True"
      ]
     },
     "execution_count": 31,
     "metadata": {},
     "output_type": "execute_result"
    },
    {
     "data": {
      "text/plain": [
       "3"
      ]
     },
     "execution_count": 31,
     "metadata": {},
     "output_type": "execute_result"
    }
   ],
   "source": [
    "N\n",
    "'b' in N['a'] # 判断 a -> b 这条有向边是否存在于 图中\n",
    "len(N['f']) # 结点 f 的度数"
   ]
  },
  {
   "cell_type": "markdown",
   "metadata": {},
   "source": [
    "## 邻接矩阵\n",
    "\n",
    "使用邻接矩阵必定会涉及到一种情况：表示稀疏的图的内存优化。可参考scipy.sparse模块"
   ]
  },
  {
   "cell_type": "code",
   "execution_count": 37,
   "metadata": {
    "ExecuteTime": {
     "end_time": "2017-10-04T22:46:37.023936Z",
     "start_time": "2017-10-04T22:46:37.010927Z"
    }
   },
   "outputs": [
    {
     "data": {
      "text/plain": [
       "array([[ 1.,  1.,  1.,  1.,  1.,  1.,  1.,  1.,  1.,  1.],\n",
       "       [ 1.,  1.,  1.,  1.,  1.,  1.,  1.,  1.,  1.,  1.],\n",
       "       [ 1.,  1.,  1.,  1.,  1.,  1.,  1.,  1.,  1.,  1.],\n",
       "       [ 1.,  1.,  1.,  1.,  1.,  1.,  1.,  1.,  1.,  1.],\n",
       "       [ 1.,  1.,  1.,  1.,  1.,  1.,  1.,  1.,  1.,  1.],\n",
       "       [ 1.,  1.,  1.,  1.,  1.,  1.,  1.,  1.,  1.,  1.],\n",
       "       [ 1.,  1.,  1.,  1.,  1.,  1.,  1.,  1.,  1.,  1.],\n",
       "       [ 1.,  1.,  1.,  1.,  1.,  1.,  1.,  1.,  1.,  1.],\n",
       "       [ 1.,  1.,  1.,  1.,  1.,  1.,  1.,  1.,  1.,  1.],\n",
       "       [ 1.,  1.,  1.,  1.,  1.,  1.,  1.,  1.,  1.,  1.]])"
      ]
     },
     "execution_count": 37,
     "metadata": {},
     "output_type": "execute_result"
    }
   ],
   "source": [
    "import numpy as np\n",
    "N = np.ones((10,10))\n",
    "N"
   ]
  },
  {
   "cell_type": "markdown",
   "metadata": {},
   "source": [
    "## 树的实现\n",
    "\n",
    "### 二维列表\n",
    "\n",
    "以下图为例，[+]表示树的内部节点\n",
    "```\n",
    "      [+]\n",
    "   /   |    \\\n",
    " [+]  [+]   [+]\n",
    " / \\   |    /  \\\n",
    "a   b  c   d   [+]\n",
    "               / \\\n",
    "              e   f\n",
    "```\n",
    "\n",
    "二维列表这种实现方法**只关注树的叶子节点**。"
   ]
  },
  {
   "cell_type": "code",
   "execution_count": 38,
   "metadata": {
    "ExecuteTime": {
     "end_time": "2017-10-04T22:52:22.547584Z",
     "start_time": "2017-10-04T22:52:22.537078Z"
    }
   },
   "outputs": [
    {
     "data": {
      "text/plain": [
       "'b'"
      ]
     },
     "execution_count": 38,
     "metadata": {},
     "output_type": "execute_result"
    },
    {
     "data": {
      "text/plain": [
       "'e'"
      ]
     },
     "execution_count": 38,
     "metadata": {},
     "output_type": "execute_result"
    }
   ],
   "source": [
    "T1 = [[\"a\", \"b\"], [\"c\"], [\"d\", [\"e\", \"f\"]]]\n",
    "T1[0][1]\n",
    "T1[2][1][0]"
   ]
  },
  {
   "cell_type": "markdown",
   "metadata": {},
   "source": [
    "### 二叉树类\n",
    "\n",
    "其他可实现知道内部节点下所能拥有的最大节点数的数也可用类似的方法实现。"
   ]
  },
  {
   "cell_type": "code",
   "execution_count": 40,
   "metadata": {
    "ExecuteTime": {
     "end_time": "2017-10-04T22:56:48.637185Z",
     "start_time": "2017-10-04T22:56:48.627178Z"
    }
   },
   "outputs": [
    {
     "data": {
      "text/plain": [
       "'c'"
      ]
     },
     "execution_count": 40,
     "metadata": {},
     "output_type": "execute_result"
    }
   ],
   "source": [
    "class BiTree:\n",
    "    def __init__(self, left, right):\n",
    "        self.left = left\n",
    "        self.right = right\n",
    "        \n",
    "T2 = BiTree(BiTree(\"a\", \"b\"), BiTree(\"c\", \"d\"))\n",
    "T2.right.left"
   ]
  },
  {
   "cell_type": "markdown",
   "metadata": {},
   "source": [
    "### 多路搜索树类\n",
    "\n",
    "多路搜索树实现采用：**先子节点后兄弟节点**的表示方法。与二叉树有些类似，但是这里第一个引用指向的是当前节点的第一个子节点，而第二个引用指向的是下一个兄弟节点。\n",
    "\n",
    "以下图为例：\n",
    "\n",
    "```\n",
    "    [+]\n",
    " /  |  |  \\\n",
    "a   b  c   d  \n",
    "```"
   ]
  },
  {
   "cell_type": "code",
   "execution_count": 43,
   "metadata": {
    "ExecuteTime": {
     "end_time": "2017-10-04T23:04:55.123657Z",
     "start_time": "2017-10-04T23:04:55.110647Z"
    }
   },
   "outputs": [
    {
     "data": {
      "text/plain": [
       "'c'"
      ]
     },
     "execution_count": 43,
     "metadata": {},
     "output_type": "execute_result"
    }
   ],
   "source": [
    "class MWTree:\n",
    "    def __init__(self, kids, next=None):\n",
    "        self.kids = kids\n",
    "        self.next = next\n",
    "        self.val = kids #用于输出的，随意设定的\n",
    "\n",
    "T3 = MWTree(MWTree(\"a\", MWTree(\"b\", MWTree(\"c\", MWTree(\"d\")))))\n",
    "T3.kids.next.next.val"
   ]
  },
  {
   "cell_type": "markdown",
   "metadata": {},
   "source": [
    "### Bunch设计模式\n",
    "\n",
    "该设计模式介绍与于《python cookbook》。\n",
    "\n",
    "**当树这样的数据结构被原型化（或者乃至于被顶型）时，它往往会是一个非常有用而灵活的类型，允许我们在其构造器中设置任何属性**，此时Bunch设计模式就派上用场了。\n",
    "\n",
    "该模式不仅可用于树结构的构建，当希望有一个灵活的对象，其**属性可以从构造器中被动态设置**时也可以用该设计模式。"
   ]
  },
  {
   "cell_type": "code",
   "execution_count": 47,
   "metadata": {
    "ExecuteTime": {
     "end_time": "2017-10-04T23:20:36.855673Z",
     "start_time": "2017-10-04T23:20:36.781123Z"
    }
   },
   "outputs": [
    {
     "data": {
      "text/plain": [
       "'linzch3'"
      ]
     },
     "execution_count": 47,
     "metadata": {},
     "output_type": "execute_result"
    },
    {
     "data": {
      "text/plain": [
       "'-------------------------'"
      ]
     },
     "execution_count": 47,
     "metadata": {},
     "output_type": "execute_result"
    },
    {
     "data": {
      "text/plain": [
       "{'left': 'a', 'right': 'b'}"
      ]
     },
     "execution_count": 47,
     "metadata": {},
     "output_type": "execute_result"
    },
    {
     "data": {
      "text/plain": [
       "'-------------------------'"
      ]
     },
     "execution_count": 47,
     "metadata": {},
     "output_type": "execute_result"
    },
    {
     "data": {
      "text/plain": [
       "'b'"
      ]
     },
     "execution_count": 47,
     "metadata": {},
     "output_type": "execute_result"
    },
    {
     "data": {
      "text/plain": [
       "'b'"
      ]
     },
     "execution_count": 47,
     "metadata": {},
     "output_type": "execute_result"
    },
    {
     "data": {
      "text/plain": [
       "'-------------------------'"
      ]
     },
     "execution_count": 47,
     "metadata": {},
     "output_type": "execute_result"
    },
    {
     "data": {
      "text/plain": [
       "{'left': 'c'}"
      ]
     },
     "execution_count": 47,
     "metadata": {},
     "output_type": "execute_result"
    },
    {
     "data": {
      "text/plain": [
       "True"
      ]
     },
     "execution_count": 47,
     "metadata": {},
     "output_type": "execute_result"
    },
    {
     "data": {
      "text/plain": [
       "False"
      ]
     },
     "execution_count": 47,
     "metadata": {},
     "output_type": "execute_result"
    }
   ],
   "source": [
    "class Bunch(dict): # 继承于字典 dict\n",
    "    def __init__(self, *args, **kwds):\n",
    "        super(Bunch, self).__init__(*args, **kwds)\n",
    "        self.__dict__ = self\n",
    "\n",
    "# 优点1：可以命令行参数形式创建相关对象，并设置任何属性\n",
    "x = Bunch(name=\"linzch3\", position=\"gz\")\n",
    "x.name\n",
    "\n",
    "'-------------------------'\n",
    "\n",
    "# 优点2：继承于dict，可获得大量相关内容，比如 键值/属性值 的遍历，查询属性是否存在\n",
    "T = Bunch\n",
    "t = T(left=T(left=\"a\", right=\"b\"), right=T(left=\"c\"))\n",
    "\n",
    "t.left\n",
    "'-------------------------'\n",
    "t.left.right\n",
    "t['left']['right']\n",
    "'-------------------------'\n",
    "t.right\n",
    "\"left\" in t.right\n",
    "\"right\" in t.right"
   ]
  },
  {
   "cell_type": "markdown",
   "metadata": {},
   "source": [
    "### 图结构思想\n",
    "\n",
    "**多数的问题都有一个内在的图结构——乃至某种树结构**——并且我们可以在没有明确为其构建表示法的情况下应用相应的图或树的算法。\n",
    "\n",
    "#### 子问题图\n",
    "\n",
    "**绝大部分问题应该都可以被分成若干个子问题，这些子问题在结构上都往往都非常相似。因此，这些结构可以被看作相关子问题图中的节点，而它们之间的依赖关系就是图的边。**\n",
    "\n",
    "我们很少在子问题图上运用相关的图算法，更多的时候这只是一种概念或者思考工具。\n",
    "\n",
    "### 图结构库\n",
    "\n",
    "一些比较复杂的图的操作如临时隐藏或合并某些节点的实现是比较复杂的，因此这时就要借助别人的轮子来干活了。\n",
    "\n",
    "支持图结构的程序库：networkX、python-graph、Graphine、Grap-tool。\n",
    "\n",
    "基于图结构的数据库：Pygr\n",
    "\n",
    "基于图结构的动画工具箱：GAto\n",
    "\n",
    "基于图结构的算法集：PADS\n",
    "\n",
    "## 提防黑盒子\n",
    "\n",
    "python的使用是比较简单，但是一不小心，可能会写出效率比预期慢很多倍的代码。\n",
    "\n",
    "因此，在编程时，**应该多多注意那些我们正在使用但是还不太了解的内容，这里往往有着许多潜在的陷阱**。\n",
    "\n",
    "### 隐藏的平方级操作"
   ]
  },
  {
   "cell_type": "code",
   "execution_count": 48,
   "metadata": {
    "ExecuteTime": {
     "end_time": "2017-10-04T23:49:42.790862Z",
     "start_time": "2017-10-04T23:49:42.773349Z"
    }
   },
   "outputs": [
    {
     "data": {
      "text/plain": [
       "False"
      ]
     },
     "execution_count": 48,
     "metadata": {},
     "output_type": "execute_result"
    },
    {
     "data": {
      "text/plain": [
       "False"
      ]
     },
     "execution_count": 48,
     "metadata": {},
     "output_type": "execute_result"
    }
   ],
   "source": [
    "from random import randrange\n",
    "\n",
    "L = [randrange(10000) for _ in range(1000)]\n",
    "\n",
    "42 in L\n",
    "\n",
    "S = set(L)\n",
    "\n",
    "42 in S"
   ]
  },
  {
   "cell_type": "markdown",
   "metadata": {},
   "source": [
    "这里将L转换成集合的操作看似没有意义，但是如果打算进行多次的成员查询操作的话，这样或许是值得的。\n",
    "\n",
    "成员查询在list中是$O(n)$，而在set中则是$O(1)$，这样明显就可以将平方级操作转换为线性级操作了。"
   ]
  },
  {
   "cell_type": "markdown",
   "metadata": {},
   "source": [
    " **-------------------------------------------平台配置代码--------------------------------------------**"
   ]
  },
  {
   "cell_type": "code",
   "execution_count": 1,
   "metadata": {
    "ExecuteTime": {
     "end_time": "2017-10-04T19:35:38.698741Z",
     "start_time": "2017-10-04T19:35:38.691736Z"
    },
    "collapsed": true
   },
   "outputs": [],
   "source": [
    "from IPython.core.interactiveshell import InteractiveShell\n",
    "InteractiveShell.ast_node_interactivity = \"all\""
   ]
  }
 ],
 "metadata": {
  "anaconda-cloud": {},
  "kernelspec": {
   "display_name": "Python [conda root]",
   "language": "python",
   "name": "conda-root-py"
  },
  "language_info": {
   "codemirror_mode": {
    "name": "ipython",
    "version": 3
   },
   "file_extension": ".py",
   "mimetype": "text/x-python",
   "name": "python",
   "nbconvert_exporter": "python",
   "pygments_lexer": "ipython3",
   "version": "3.5.2"
  },
  "toc": {
   "nav_menu": {},
   "number_sections": true,
   "sideBar": true,
   "skip_h1_title": false,
   "toc_cell": false,
   "toc_position": {
    "height": "596px",
    "left": "0px",
    "right": "1030px",
    "top": "106px",
    "width": "242px"
   },
   "toc_section_display": "block",
   "toc_window_display": true
  }
 },
 "nbformat": 4,
 "nbformat_minor": 2
}
