{
 "cells": [
  {
   "cell_type": "markdown",
   "metadata": {},
   "source": [
    "# list黑盒子"
   ]
  },
  {
   "cell_type": "code",
   "execution_count": 1,
   "metadata": {
    "ExecuteTime": {
     "end_time": "2017-10-04T12:30:19.186030Z",
     "start_time": "2017-10-04T12:30:19.178019Z"
    },
    "collapsed": true
   },
   "outputs": [],
   "source": [
    "count = 10**5"
   ]
  },
  {
   "cell_type": "markdown",
   "metadata": {},
   "source": [
    "## 使用append方法"
   ]
  },
  {
   "cell_type": "code",
   "execution_count": 6,
   "metadata": {
    "ExecuteTime": {
     "end_time": "2017-10-04T12:31:18.236221Z",
     "start_time": "2017-10-04T12:31:13.271854Z"
    }
   },
   "outputs": [
    {
     "name": "stdout",
     "output_type": "stream",
     "text": [
      "100 loops, best of 3: 11.6 ms per loop\n"
     ]
    }
   ],
   "source": [
    "%%timeit\n",
    "num1 = []\n",
    "for i in range(count):\n",
    "    num1.append(i)\n",
    "num1.reverse()"
   ]
  },
  {
   "cell_type": "markdown",
   "metadata": {},
   "source": [
    "## 使用insert方法"
   ]
  },
  {
   "cell_type": "code",
   "execution_count": 7,
   "metadata": {
    "ExecuteTime": {
     "end_time": "2017-10-04T12:31:36.541686Z",
     "start_time": "2017-10-04T12:31:21.933567Z"
    }
   },
   "outputs": [
    {
     "name": "stdout",
     "output_type": "stream",
     "text": [
      "1 loop, best of 3: 3.6 s per loop\n"
     ]
    }
   ],
   "source": [
    "%%timeit\n",
    "num2 = []\n",
    "for i in range(count):\n",
    "    num2.insert(0,i)"
   ]
  },
  {
   "cell_type": "markdown",
   "metadata": {},
   "source": [
    "比较上面两者的运行时间，可以发现，前者运行11.6ms，后者运行3.6s，两者实现同样的功能，但是时间却相差了3.6 * 1000/11.6=310.344827586倍！\n",
    "\n",
    "实际上python中的list不是用链表实现的，而是用数组实现的。其主要的设计想法是**将内存分配得过大一些，并且等到其溢出时，在线性时间内再次重新分配内存**。\n",
    "\n",
    "这样做的效果即是，每次执行insert操作，都需要移动插入点右边的所有元素，知道内存溢出才搬到更大的数组。\n",
    "\n",
    "而每次执行append操作，只需要在数组后面直接插进去，而不用移动其他元素，除非内存溢出。\n",
    "\n",
    "实际上，如果我们能确保每次所搬入的数组都是原数组的一定的比例（比如120%或200%），那么将这些搬运开销均摊到每次append操作上的平均成本通常就是常数。\n",
    "\n",
    "append n个数字的运行时间为O(n)，而在首端insert相同数量的元素的运行时间则为O($n^2$)"
   ]
  }
 ],
 "metadata": {
  "kernelspec": {
   "display_name": "Python [conda root]",
   "language": "python",
   "name": "conda-root-py"
  },
  "language_info": {
   "codemirror_mode": {
    "name": "ipython",
    "version": 3
   },
   "file_extension": ".py",
   "mimetype": "text/x-python",
   "name": "python",
   "nbconvert_exporter": "python",
   "pygments_lexer": "ipython3",
   "version": "3.5.2"
  },
  "toc": {
   "nav_menu": {},
   "number_sections": true,
   "sideBar": true,
   "skip_h1_title": false,
   "toc_cell": false,
   "toc_position": {},
   "toc_section_display": "block",
   "toc_window_display": false
  }
 },
 "nbformat": 4,
 "nbformat_minor": 2
}
